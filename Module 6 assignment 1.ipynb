{
 "cells": [
  {
   "cell_type": "markdown",
   "id": "b3d10d92",
   "metadata": {},
   "source": [
    "Q1. Create one variable containing following type of data:\n",
    "\n",
    "(i) string\n",
    "\n",
    "(ii) list\n",
    "\n",
    "(iii) float\n",
    "\n",
    "(iv) tuple\n",
    "\n"
   ]
  },
  {
   "cell_type": "code",
   "execution_count": 2,
   "id": "7446a51b",
   "metadata": {},
   "outputs": [],
   "source": [
    "var_1 = 'India'\n",
    "var_2 = [1,2,3,4,5]\n",
    "var_3 = 3.5\n",
    "var_4 = ('apple','banana','grapes')"
   ]
  },
  {
   "cell_type": "markdown",
   "id": "64d0f8f8",
   "metadata": {},
   "source": [
    "Q2. Given are some following variables containing data:\n",
    "\n",
    "(i) var1 = ‘ ‘\n",
    "\n",
    "(ii) var2 = ‘[ DS , ML , Python]’\n",
    "\n",
    "(iii) var3 = [ ‘DS’ , ’ML’ , ‘Python’ ]\n",
    "\n",
    "(iv) var4 = 1.\n",
    "\n",
    "\n",
    "What will be the data type of the above given variable.\n",
    "\n"
   ]
  },
  {
   "cell_type": "markdown",
   "id": "ab5a34fb",
   "metadata": {},
   "source": [
    "i)Type of var1 is string\n",
    "ii) Type of var2 is string\n",
    "iii)Type of var3 is list\n",
    "iv) Type of var4 is integer\n",
    "\n",
    "Note:The data types of the following variables can be found out by using type() function in python\n"
   ]
  },
  {
   "cell_type": "markdown",
   "id": "a06c68a8",
   "metadata": {},
   "source": [
    "Q3. Explain the use of the following operators using an example:\n",
    "\n",
    "(i) /\n",
    "\n",
    "(ii) %\n",
    "(iii) //\n",
    "\n",
    "(iv) **\n"
   ]
  },
  {
   "cell_type": "code",
   "execution_count": 37,
   "id": "09b9f2e5",
   "metadata": {},
   "outputs": [
    {
     "name": "stdout",
     "output_type": "stream",
     "text": [
      "5.0\n"
     ]
    }
   ],
   "source": [
    "#i) / operator in python used for division. for example if a = 10 and b = 2 then a/b should be equal to 5 as shown below\n",
    "a=10\n",
    "b=2\n",
    "c = a/b\n",
    "print(c)"
   ]
  },
  {
   "cell_type": "code",
   "execution_count": 13,
   "id": "1856b582",
   "metadata": {},
   "outputs": [
    {
     "name": "stdout",
     "output_type": "stream",
     "text": [
      "1\n"
     ]
    }
   ],
   "source": [
    "\"\"\" ii) % operator is python is used for getting remainder afer dividing one number by another. for example if we divide 10\n",
    "by 3 then the remainder is 1 as shown below\"\"\"\n",
    "a=10\n",
    "b=3\n",
    "c =a%b\n",
    "print(c)"
   ]
  },
  {
   "cell_type": "code",
   "execution_count": 14,
   "id": "316c35f7",
   "metadata": {},
   "outputs": [
    {
     "name": "stdout",
     "output_type": "stream",
     "text": [
      "4\n"
     ]
    }
   ],
   "source": [
    "\"\"\"iii) // operator is used for floor division in python and it returns the quotient. For example if we divide 17 by 4 then we \n",
    "get 4 as quotient as shown below\"\"\"\n",
    "a=17\n",
    "b=4\n",
    "c=a//b\n",
    "print(c)"
   ]
  },
  {
   "cell_type": "code",
   "execution_count": 15,
   "id": "61a377d1",
   "metadata": {},
   "outputs": [
    {
     "name": "stdout",
     "output_type": "stream",
     "text": [
      "32\n"
     ]
    }
   ],
   "source": [
    "\"\"\"iv) ** operator is used in python as power operator. If we have two numbers a and b then it gives us value of a raised to \n",
    "the power b as shown below\"\"\"\n",
    "a=2\n",
    "b=5\n",
    "c=a**b\n",
    "print(c)"
   ]
  },
  {
   "cell_type": "markdown",
   "id": "f8825d4c",
   "metadata": {},
   "source": [
    "Q4. Create a list of length 10 of your choice containing multiple types of data. Using for loop print the\n",
    "element and its data type.\n",
    "\n"
   ]
  },
  {
   "cell_type": "code",
   "execution_count": 31,
   "id": "803b751f",
   "metadata": {},
   "outputs": [],
   "source": [
    "list = [1,2,3,True,'India','Australia',3.45,4+5j,False,50]"
   ]
  },
  {
   "cell_type": "code",
   "execution_count": 35,
   "id": "c978751a",
   "metadata": {},
   "outputs": [
    {
     "name": "stdout",
     "output_type": "stream",
     "text": [
      "datatype of 1 is: <class 'int'>\n",
      "datatype of 2 is: <class 'int'>\n",
      "datatype of 3 is: <class 'int'>\n",
      "datatype of True is: <class 'bool'>\n",
      "datatype of India is: <class 'str'>\n",
      "datatype of Australia is: <class 'str'>\n",
      "datatype of 3.45 is: <class 'float'>\n",
      "datatype of (4+5j) is: <class 'complex'>\n",
      "datatype of False is: <class 'bool'>\n",
      "datatype of 50 is: <class 'int'>\n"
     ]
    }
   ],
   "source": [
    "for i in list:\n",
    "    print(f'datatype of {i} is:',type(i))"
   ]
  },
  {
   "cell_type": "markdown",
   "id": "5a3fb665",
   "metadata": {},
   "source": [
    "Q5. Using a while loop, verify if the number A is purely divisible by number B and if so then how many\n",
    "times it can be divisible."
   ]
  },
  {
   "cell_type": "code",
   "execution_count": 52,
   "id": "080fb047",
   "metadata": {},
   "outputs": [
    {
     "name": "stdout",
     "output_type": "stream",
     "text": [
      "25\n",
      "5\n",
      "25 is purely divisible by 5.\n",
      "It can be divided 5 times until it's no longer divisible by 5.\n"
     ]
    }
   ],
   "source": [
    "a = int(input())\n",
    "b = int(input())\n",
    "count = 0\n",
    "\n",
    "if b==0:\n",
    "    print(\"Division by 0 is not allowed\")\n",
    "elif a ==0:\n",
    "    print('Dividing 0 by any real number gives 0')\n",
    "elif a%b!=0:\n",
    "    print(\"A is not divisible by b\")\n",
    "else:\n",
    "    while a%b==0:\n",
    "        c=a//b\n",
    "        a=a+1\n",
    "    print(f\"{a-1} is purely divisible by {b}.\")\n",
    "    print(f\"It can be divided {c} times until it's no longer divisible by {b}.\")\n",
    "    \n",
    "\n"
   ]
  },
  {
   "cell_type": "markdown",
   "id": "9e7ad9aa",
   "metadata": {},
   "source": [
    "Q6. Create a list containing 25 int type data. Using for loop and if-else condition print if the element is\n",
    "divisible by 3 or not."
   ]
  },
  {
   "cell_type": "code",
   "execution_count": 40,
   "id": "bc20d33e",
   "metadata": {},
   "outputs": [
    {
     "name": "stdout",
     "output_type": "stream",
     "text": [
      "20 is not divisible by 3\n",
      "54 is divisible by 3\n",
      "98 is not divisible by 3\n",
      "74 is not divisible by 3\n",
      "83 is not divisible by 3\n",
      "65 is not divisible by 3\n",
      "25 is not divisible by 3\n",
      "64 is not divisible by 3\n",
      "81 is divisible by 3\n",
      "90 is divisible by 3\n",
      "103 is not divisible by 3\n",
      "254 is not divisible by 3\n",
      "300 is divisible by 3\n",
      "540 is divisible by 3\n",
      "741 is divisible by 3\n",
      "365 is not divisible by 3\n",
      "3 is divisible by 3\n",
      "4 is not divisible by 3\n",
      "5 is not divisible by 3\n",
      "8 is not divisible by 3\n",
      "45 is divisible by 3\n",
      "27 is divisible by 3\n",
      "53 is not divisible by 3\n",
      "58 is not divisible by 3\n",
      "98 is not divisible by 3\n"
     ]
    }
   ],
   "source": [
    "list = [20,54,98,74,83,65,25,64,81,90,103,254,300,540,741,365,3,4,5,8,45,27,53,58,98]\n",
    "for i in list:\n",
    "    if i%3==0:\n",
    "        print(f'{i} is divisible by 3')\n",
    "    else:\n",
    "        print(f'{i} is not divisible by 3')"
   ]
  },
  {
   "cell_type": "markdown",
   "id": "1f01084d",
   "metadata": {},
   "source": [
    "Q7. What do you understand about mutable and immutable data types? Give examples for both showing\n",
    "this property."
   ]
  },
  {
   "cell_type": "markdown",
   "id": "4379a041",
   "metadata": {},
   "source": [
    "Mutable data types can be modified after creation while immutables data types can't be modified. Example of mutable data types\n",
    "are list, dictationaries and sets are mutable while integers,strings and tuples are immutable."
   ]
  },
  {
   "cell_type": "code",
   "execution_count": null,
   "id": "0872f498",
   "metadata": {},
   "outputs": [],
   "source": []
  }
 ],
 "metadata": {
  "kernelspec": {
   "display_name": "Python 3 (ipykernel)",
   "language": "python",
   "name": "python3"
  },
  "language_info": {
   "codemirror_mode": {
    "name": "ipython",
    "version": 3
   },
   "file_extension": ".py",
   "mimetype": "text/x-python",
   "name": "python",
   "nbconvert_exporter": "python",
   "pygments_lexer": "ipython3",
   "version": "3.9.13"
  }
 },
 "nbformat": 4,
 "nbformat_minor": 5
}
